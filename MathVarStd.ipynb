{
 "cells": [
  {
   "cell_type": "markdown",
   "metadata": {},
   "source": [
    "Manual and Mathematical Processes of Variance (σ^2) and Standard Deviation (σ)"
   ]
  },
  {
   "cell_type": "code",
   "execution_count": 28,
   "metadata": {},
   "outputs": [
    {
     "name": "stdout",
     "output_type": "stream",
     "text": [
      "[18.84159626  3.2386067  -4.68190639 -0.93800013  7.03682609]\n"
     ]
    }
   ],
   "source": [
    "import numpy as np\n",
    "import matplotlib.pyplot as plt\n",
    "\n",
    "data = np.random.normal(5, 10, 5)\n",
    "print(data)"
   ]
  },
  {
   "cell_type": "code",
   "execution_count": 29,
   "metadata": {},
   "outputs": [
    {
     "name": "stdout",
     "output_type": "stream",
     "text": [
      "Variance, σ^2: \n",
      "65.47767654849794\n",
      "\n",
      "Standard Deviation, σ: \n",
      "8.09182776315079\n"
     ]
    }
   ],
   "source": [
    "# Built-in function based Calculations of Variance σ^2 and Standard Deviation σ\n",
    "\n",
    "#Variance, σ^2\n",
    "v = data.var()\n",
    "print(\"Variance, σ^2: \\n\" + str(v));\n",
    "\n",
    "#Standard Deviation, σ\n",
    "s = data.std()\n",
    "print(\"\\nStandard Deviation, σ: \\n\" + str(s));"
   ]
  },
  {
   "cell_type": "code",
   "execution_count": 30,
   "metadata": {},
   "outputs": [
    {
     "name": "stdout",
     "output_type": "stream",
     "text": [
      "Sum of all the elements of incomes2 array: 23.49712253220467\n",
      "Mean Value: 4.699424506440934\n",
      "\n",
      "Mean Differences: [-14.14217175428599, 1.4608178053888237, 9.381330896365228, 5.637424640899714, -2.337401588367774]\n",
      "\n",
      "Squared Differences: [200.00102192772445, 2.133988660541019, 88.0093693870968, 31.78055658182327, 5.463446185304193]\n",
      "\n",
      "\n",
      "Variance, σ^2: \n",
      "65.47767654849794\n",
      "\n",
      "Standard Deviation, σ: \n",
      "8.09182776315079\n",
      "\n"
     ]
    }
   ],
   "source": [
    "# Menual Calculations of Variance σ^2 and Standard Deviation σ\n",
    "\n",
    "#Step 1: Find the mean, Equation: Sum of Array's indexes / Array Length\n",
    "sum = 0; \n",
    "for i in range(0, len(data)):    \n",
    "   sum = sum + data[i];  \n",
    "print(\"Sum of all the elements of incomes2 array: \" + str(sum));\n",
    "mean = sum / len(data);\n",
    "print(\"Mean Value: \" + str(mean));\n",
    "print()\n",
    "\n",
    "#Step 2: Find the differences from the mean, Equation: mean - data[i]\n",
    "meanDifferences = [0] * len(data)\n",
    "for i in range(0, len(data)):  \n",
    "    meanDifferences[i] = mean - data[i]\n",
    "print(\"Mean Differences: \" + str(meanDifferences));\n",
    "print()\n",
    "\n",
    "#Step 3: Find the Squared Differences, Equation: meanDifferences[i]^2\n",
    "squaredDifferences = [0] * len(data)\n",
    "for i in range(0, len(meanDifferences)): \n",
    "    squaredDifferences[i] = meanDifferences[i]**2\n",
    "print(\"Squared Differences: \" + str(squaredDifferences));\n",
    "print()\n",
    "\n",
    "#Step 4: Find the Average of Squared Differences or Variance σ^2, \n",
    "#Equation: Sum of Squared Differences Array's indexes / Array Length\n",
    "print()\n",
    "sumOfSquaredDifferences = 0\n",
    "for i in range(0, len(squaredDifferences)): \n",
    "    sumOfSquaredDifferences = sumOfSquaredDifferences + squaredDifferences[i]\n",
    "variance = sumOfSquaredDifferences / len(squaredDifferences)\n",
    "print(\"Variance, σ^2: \\n\" + str(variance));\n",
    "print()\n",
    "\n",
    "#Step 5: Find the Standard Deviation σ, Equation: σ = √variance\n",
    "import math\n",
    "standardDeviation = math.sqrt(variance)\n",
    "print(\"Standard Deviation, σ: \\n\" + str(standardDeviation));\n",
    "print()"
   ]
  },
  {
   "cell_type": "code",
   "execution_count": null,
   "metadata": {},
   "outputs": [],
   "source": []
  },
  {
   "cell_type": "code",
   "execution_count": null,
   "metadata": {},
   "outputs": [],
   "source": []
  }
 ],
 "metadata": {
  "kernelspec": {
   "display_name": "Python 3",
   "language": "python",
   "name": "python3"
  },
  "language_info": {
   "codemirror_mode": {
    "name": "ipython",
    "version": 3
   },
   "file_extension": ".py",
   "mimetype": "text/x-python",
   "name": "python",
   "nbconvert_exporter": "python",
   "pygments_lexer": "ipython3",
   "version": "3.6.6"
  }
 },
 "nbformat": 4,
 "nbformat_minor": 4
}
